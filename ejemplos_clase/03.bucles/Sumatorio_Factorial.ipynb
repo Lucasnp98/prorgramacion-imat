{
 "cells": [
  {
   "cell_type": "code",
   "execution_count": 5,
   "id": "19cdc857-b7a6-4f76-a204-0211e0ac2e5f",
   "metadata": {},
   "outputs": [
    {
     "name": "stdout",
     "output_type": "stream",
     "text": [
      "120\n"
     ]
    }
   ],
   "source": [
    "contador = 1\n",
    "numero = 15\n",
    "sumatorio = 0\n",
    "while contador <= numero:\n",
    "    sumatorio = sumatorio + contador\n",
    "    contador = contador + 1  \n",
    "    \n",
    "print(sumatorio)\n",
    "    \n",
    "    "
   ]
  },
  {
   "cell_type": "code",
   "execution_count": 6,
   "id": "2a31553e-f497-496e-83ed-a4568226961c",
   "metadata": {},
   "outputs": [
    {
     "name": "stdout",
     "output_type": "stream",
     "text": [
      "120\n"
     ]
    }
   ],
   "source": [
    "contador = 1\n",
    "numero = 5\n",
    "factorial = 1\n",
    "while contador <= numero:\n",
    "    factorial = factorial * contador \n",
    "    \n",
    "    contador = contador + 1\n",
    "    \n",
    "print(factorial)\n"
   ]
  }
 ],
 "metadata": {
  "kernelspec": {
   "display_name": "Python 3 (ipykernel)",
   "language": "python",
   "name": "python3"
  },
  "language_info": {
   "codemirror_mode": {
    "name": "ipython",
    "version": 3
   },
   "file_extension": ".py",
   "mimetype": "text/x-python",
   "name": "python",
   "nbconvert_exporter": "python",
   "pygments_lexer": "ipython3",
   "version": "3.13.5"
  }
 },
 "nbformat": 4,
 "nbformat_minor": 5
}
