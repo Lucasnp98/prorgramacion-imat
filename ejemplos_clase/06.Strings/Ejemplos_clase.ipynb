{
 "cells": [
  {
   "cell_type": "code",
   "execution_count": 1,
   "id": "3ecdac7b-5a41-4ae1-802a-288579e788b6",
   "metadata": {},
   "outputs": [
    {
     "name": "stdout",
     "output_type": "stream",
     "text": [
      "HOLA\n"
     ]
    }
   ],
   "source": [
    "palabra = \"\"\n",
    "\n",
    "palabra += \"H\"\n",
    "palabra += \"O\"\n",
    "palabra += \"L\"\n",
    "palabra += \"A\"\n",
    "print(palabra)\n",
    "\n",
    "\n",
    "\n"
   ]
  },
  {
   "cell_type": "code",
   "execution_count": null,
   "id": "061c5c62-efae-4149-a9a8-440428cc7b1f",
   "metadata": {},
   "outputs": [],
   "source": [
    "contador = 0\n",
    "contador = contador + 1\n",
    "contador += 1"
   ]
  },
  {
   "cell_type": "code",
   "execution_count": 3,
   "id": "03f3c9ff-3183-4fd9-ba3a-5ebec54826f6",
   "metadata": {},
   "outputs": [
    {
     "name": "stdout",
     "output_type": "stream",
     "text": [
      "*\n",
      "**\n",
      "***\n",
      "****\n",
      "*****\n",
      "******\n",
      "*******\n"
     ]
    }
   ],
   "source": [
    "# Hazlo con el end sin usar *\n",
    "altura = 7\n",
    "contador = 1\n",
    "simbolo = \"*\"\n",
    "while contador <= altura:\n",
    "    print(contador * simbolo)\n",
    "    contador += 1"
   ]
  },
  {
   "cell_type": "code",
   "execution_count": 4,
   "id": "790e89f0-33f4-4caf-bd0b-c5fd49b3eff7",
   "metadata": {},
   "outputs": [
    {
     "name": "stdout",
     "output_type": "stream",
     "text": [
      "******\n",
      "*****\n",
      "****\n",
      "***\n",
      "**\n",
      "*\n",
      "\n"
     ]
    }
   ],
   "source": [
    "# Hazlo con el end sin usar *\n",
    "altura = 7\n",
    "contador = 1\n",
    "simbolo = \"*\"\n",
    "while contador <= altura:\n",
    "    print((altura - contador) * simbolo)\n",
    "    contador += 1"
   ]
  },
  {
   "cell_type": "code",
   "execution_count": 7,
   "id": "7e1c2275-7fbb-4887-9ec8-1af99e13120d",
   "metadata": {},
   "outputs": [
    {
     "name": "stdout",
     "output_type": "stream",
     "text": [
      "H\n",
      "o\n"
     ]
    }
   ],
   "source": [
    "cadena = \"Hola\"\n",
    "\n",
    "print(cadena[0])\n",
    "print(cadena[1])"
   ]
  },
  {
   "cell_type": "code",
   "execution_count": 12,
   "id": "da12d87a-0814-40fc-abb4-cc327333cd7e",
   "metadata": {},
   "outputs": [
    {
     "name": "stdout",
     "output_type": "stream",
     "text": [
      "á\n"
     ]
    }
   ],
   "source": [
    "cadena = \"Hola que tal estás\"\n",
    "posicion = -2\n",
    "print(cadena[posicion])\n",
    "\n"
   ]
  },
  {
   "cell_type": "code",
   "execution_count": 19,
   "id": "13975251-4c5f-4481-bcd6-2eec24205c14",
   "metadata": {},
   "outputs": [
    {
     "name": "stdout",
     "output_type": "stream",
     "text": [
      "0 H\n",
      "1 o\n",
      "2 l\n",
      "3 a\n",
      "4  \n",
      "5 q\n",
      "6 u\n",
      "7 e\n",
      "8  \n",
      "9 t\n",
      "10 a\n",
      "11 l\n",
      "12  \n",
      "13 e\n",
      "14 s\n",
      "15 t\n",
      "16 á\n",
      "17 s\n"
     ]
    }
   ],
   "source": [
    "cadena = \"Hola que tal estás\"\n",
    "indice = 0\n",
    "while indice < len(cadena):\n",
    "    print(indice, cadena[indice])\n",
    "    indice += 1"
   ]
  },
  {
   "cell_type": "code",
   "execution_count": null,
   "id": "06e517b3-b018-4f6b-93e7-8417bea5c606",
   "metadata": {},
   "outputs": [],
   "source": [
    "#Suponiendo una cadena en minúsculas, \n",
    "#recorrerla y sacar tanto la letra en cuestión como esa letra en mayúsucla"
   ]
  },
  {
   "cell_type": "code",
   "execution_count": 20,
   "id": "2134b663-cd8f-46b5-9e76-741bb5cce4eb",
   "metadata": {},
   "outputs": [
    {
     "name": "stdout",
     "output_type": "stream",
     "text": [
      "h H\n",
      "o O\n",
      "l L\n",
      "a A\n"
     ]
    }
   ],
   "source": [
    "cadena = \"hola\"\n",
    "indice = 0\n",
    "while indice < len(cadena):\n",
    "    asci_letra = ord(cadena[indice])\n",
    "    asci_letra_minus = asci_letra - 32\n",
    "    letra_mayus = chr(asci_letra_minus)\n",
    "    print(cadena[indice], letra_mayus)\n",
    "    indice += 1\n"
   ]
  },
  {
   "cell_type": "code",
   "execution_count": 21,
   "id": "f8913756-41c6-4e6a-8cc6-3144bea2777a",
   "metadata": {},
   "outputs": [
    {
     "name": "stdout",
     "output_type": "stream",
     "text": [
      "xbrxdxbrx\n"
     ]
    }
   ],
   "source": [
    "## ahora quiero obtener una nueva cadena que sustituya las a por x\n",
    "cadena = \"abradabra\"\n",
    "salida = \"\"\n",
    "indice = 0\n",
    "while indice < len(cadena):\n",
    "    if cadena[indice] == \"A\" or cadena[indice] == \"a\":\n",
    "        letra = \"x\"\n",
    "    else:\n",
    "        letra = cadena[indice]\n",
    "    salida += letra\n",
    "    indice += 1\n",
    "print(salida)"
   ]
  },
  {
   "cell_type": "code",
   "execution_count": 22,
   "id": "d99e7580-2560-45da-ad02-14f597c07901",
   "metadata": {},
   "outputs": [
    {
     "name": "stdout",
     "output_type": "stream",
     "text": [
      "HOLA\n"
     ]
    }
   ],
   "source": [
    "cadena = \"hola\"\n",
    "cadena_mayus = cadena.upper()\n",
    "print(cadena_mayus)"
   ]
  },
  {
   "cell_type": "code",
   "execution_count": 26,
   "id": "45152d1a-2c55-4aaf-84d0-8c8d11201d70",
   "metadata": {},
   "outputs": [
    {
     "name": "stdout",
     "output_type": "stream",
     "text": [
      "\u001b[1;42m H \u001b[0m\n",
      "\u001b[1;42m O \u001b[0m\n",
      "\u001b[1;42m L \u001b[0m\n",
      "\u001b[1;41m A \u001b[0m\n"
     ]
    }
   ],
   "source": [
    "GRIS = \"\\033[1;47m\"\n",
    "VERDE = \"\\033[1;42m\"\n",
    "ROJO = \"\\033[1;41m\"\n",
    "DEFECTO = \"\\033[0m\"\n",
    "\n",
    "cadena = \"Hola\"\n",
    "cadena_mayus = cadena.upper()\n",
    "indice = 0\n",
    "while indice < len(cadena_mayus):\n",
    "    if cadena_mayus[indice] == \"A\":\n",
    "        color = ROJO\n",
    "    else:\n",
    "        color = VERDE\n",
    "    \n",
    "    print(f\"{color} {cadena_mayus[indice]} {DEFECTO}\")\n",
    "    indice += 1"
   ]
  },
  {
   "cell_type": "code",
   "execution_count": 1,
   "id": "ee94a06c-6b80-469c-b950-8ff18322cc96",
   "metadata": {},
   "outputs": [
    {
     "name": "stdout",
     "output_type": "stream",
     "text": [
      "hola\n"
     ]
    }
   ],
   "source": [
    "texto = \"\\u0068\\u006f\\u006c\\u0061\"\n",
    "print(texto)"
   ]
  },
  {
   "cell_type": "code",
   "execution_count": 5,
   "id": "811ab73d-b3d6-4211-bc00-5ccf9e15abdb",
   "metadata": {},
   "outputs": [
    {
     "name": "stdout",
     "output_type": "stream",
     "text": [
      "😃\n"
     ]
    }
   ],
   "source": [
    "texto = \"\\U0001F603\"\n",
    "print(texto)\n",
    "\n"
   ]
  },
  {
   "cell_type": "code",
   "execution_count": 13,
   "id": "2ef54eae-fa6f-4ff8-a0f0-c1ac3f571982",
   "metadata": {},
   "outputs": [
    {
     "name": "stdout",
     "output_type": "stream",
     "text": [
      "😂\n"
     ]
    }
   ],
   "source": [
    "texto = \"\\U0001F602\"\n",
    "print(texto)\n",
    "\n",
    "\n"
   ]
  },
  {
   "cell_type": "code",
   "execution_count": 18,
   "id": "8f7f2ba6-1d3d-404b-81af-621ce75aa67f",
   "metadata": {},
   "outputs": [
    {
     "name": "stdout",
     "output_type": "stream",
     "text": [
      "hola q\n",
      "hola q\n",
      "a que tal\n",
      "a q\n"
     ]
    }
   ],
   "source": [
    "cadena = \"hola que tal\"\n",
    "subcadena = cadena[0:6]#inicio , fin\n",
    "print(subcadena)\n",
    "subcadena = cadena[:6] #si no pones nada, empiezas en el 0\n",
    "print(subcadena)\n",
    "subcadena = cadena[3:] # si no pones nada llegas al final\n",
    "print(subcadena)\n",
    "subcadena = cadena[3:6]\n",
    "print(subcadena)"
   ]
  },
  {
   "cell_type": "code",
   "execution_count": 21,
   "id": "a4e942a5-4265-483a-afb0-9664d35a6a75",
   "metadata": {},
   "outputs": [
    {
     "name": "stdout",
     "output_type": "stream",
     "text": [
      "aaaaaa\n"
     ]
    }
   ],
   "source": [
    "cadena = \"abacadaeafag\"\n",
    "subcadena = cadena[::2] #inicio, fin, salto\n",
    "print(subcadena)"
   ]
  },
  {
   "cell_type": "code",
   "execution_count": 22,
   "id": "89bd97ff-6c75-4448-8a08-a6e633d539ce",
   "metadata": {},
   "outputs": [
    {
     "name": "stdout",
     "output_type": "stream",
     "text": [
      "aaa\n"
     ]
    }
   ],
   "source": [
    "cadena = \"abacadaeafag\"\n",
    "subcadena = cadena[0:6:2] #inicio, fin, salto\n",
    "print(subcadena)"
   ]
  },
  {
   "cell_type": "code",
   "execution_count": 23,
   "id": "b8024b40-407b-4574-9a4d-8232f3e762e4",
   "metadata": {},
   "outputs": [
    {
     "name": "stdout",
     "output_type": "stream",
     "text": [
      "acaf\n"
     ]
    }
   ],
   "source": [
    "cadena = \"abacadaeafag\"\n",
    "subcadena = cadena[0::3] #inicio, fin, salto\n",
    "print(subcadena)"
   ]
  },
  {
   "cell_type": "code",
   "execution_count": 27,
   "id": "9fbd1820-d198-48c4-9a1c-eefea5e27e63",
   "metadata": {},
   "outputs": [
    {
     "name": "stdout",
     "output_type": "stream",
     "text": [
      "H\n",
      "o\n",
      "l\n"
     ]
    }
   ],
   "source": [
    "cadena = \"Hola esto es una cadena\"\n",
    "\n",
    "posicion = 0\n",
    "print(cadena[posicion])\n",
    "posicion = 1\n",
    "print(cadena[posicion])\n",
    "posicion = 2\n",
    "print(cadena[posicion])\n",
    "\n",
    "\n"
   ]
  },
  {
   "cell_type": "code",
   "execution_count": 30,
   "id": "b8381abb-b9e7-4673-bda9-c833f7cf2dbb",
   "metadata": {},
   "outputs": [
    {
     "name": "stdout",
     "output_type": "stream",
     "text": [
      "La letra en la posicion 0 es H\n",
      "La letra en la posicion 1 es o\n",
      "La letra en la posicion 2 es l\n",
      "La letra en la posicion 3 es a\n",
      "La letra en la posicion 4 es  \n",
      "La letra en la posicion 5 es q\n",
      "La letra en la posicion 6 es u\n",
      "La letra en la posicion 7 es e\n",
      "La letra en la posicion 8 es  \n",
      "La letra en la posicion 9 es t\n",
      "La letra en la posicion 10 es a\n",
      "La letra en la posicion 11 es l\n"
     ]
    }
   ],
   "source": [
    "cadena = \"Hola que tal\"\n",
    "\n",
    "posicion = 0\n",
    "while posicion < len(cadena):\n",
    "    print(f\"La letra en la posicion {posicion} es {cadena[posicion]}\")\n",
    "    posicion += 1\n",
    "\n"
   ]
  },
  {
   "cell_type": "code",
   "execution_count": 32,
   "id": "8611cb54-e367-4a4c-a302-2ea20a041d5c",
   "metadata": {},
   "outputs": [
    {
     "name": "stdout",
     "output_type": "stream",
     "text": [
      "ROSAL\n",
      "LUCAS\n",
      "PAULA\n"
     ]
    }
   ],
   "source": [
    "cadena = \"ROSALLUCASPAULA\"\n",
    "subcadena1 = cadena[0:5]\n",
    "subcadena2 = cadena[5:10]\n",
    "subcadena3 = cadena[10:15]\n",
    "print(subcadena1)\n",
    "print(subcadena2)\n",
    "print(subcadena3)"
   ]
  },
  {
   "cell_type": "code",
   "execution_count": 40,
   "id": "0cf2471e-3ec0-4955-8dbd-61fa2601043c",
   "metadata": {},
   "outputs": [
    {
     "name": "stdout",
     "output_type": "stream",
     "text": [
      "ROSAL\n",
      "LUCAS\n",
      "PAULA\n",
      "MARIA\n",
      "MESSI\n"
     ]
    }
   ],
   "source": [
    "cadena = \"ROSALLUCASPAULAMARIAMESSI\"\n",
    "inicio = 0\n",
    "fin = 5\n",
    "contador = 0\n",
    "while contador < len(cadena) // 5:\n",
    "    \n",
    "    subcadena = cadena[inicio:fin]\n",
    "    print(subcadena)\n",
    "    contador += 1\n",
    "    inicio += 5\n",
    "    fin += 5\n",
    "\n"
   ]
  },
  {
   "cell_type": "code",
   "execution_count": 51,
   "id": "a26e8bc8-1549-4229-b5c7-47a0f9b47bf8",
   "metadata": {},
   "outputs": [
    {
     "name": "stdout",
     "output_type": "stream",
     "text": [
      "El número 345654 es polidivisible\n"
     ]
    }
   ],
   "source": [
    "numero = 345654 \n",
    "polidivisible = True\n",
    "numero_str = str(numero)\n",
    "\n",
    "posicion = 1\n",
    "while posicion <= len(numero_str) and polidivisible:\n",
    "    subnumero = numero_str[:posicion]\n",
    "    subnumero_int = int(subnumero)\n",
    "    if subnumero_int % posicion != 0:\n",
    "        polidivisible = False\n",
    "    posicion += 1\n",
    "\n",
    "if polidivisible:\n",
    "    print(f\"El número {numero} es polidivisible\")\n",
    "\n",
    "else:\n",
    "    print(f\"El número {numero} no es polidivisible\")"
   ]
  },
  {
   "cell_type": "code",
   "execution_count": 53,
   "id": "70be92a0-843f-4f19-976f-0ee4739777c7",
   "metadata": {},
   "outputs": [
    {
     "name": "stdout",
     "output_type": "stream",
     "text": [
      "121\n"
     ]
    }
   ],
   "source": [
    "numero = \"121324\"\n",
    "print(numero[0:3])"
   ]
  }
 ],
 "metadata": {
  "kernelspec": {
   "display_name": "Python 3 (ipykernel)",
   "language": "python",
   "name": "python3"
  },
  "language_info": {
   "codemirror_mode": {
    "name": "ipython",
    "version": 3
   },
   "file_extension": ".py",
   "mimetype": "text/x-python",
   "name": "python",
   "nbconvert_exporter": "python",
   "pygments_lexer": "ipython3",
   "version": "3.13.5"
  }
 },
 "nbformat": 4,
 "nbformat_minor": 5
}
