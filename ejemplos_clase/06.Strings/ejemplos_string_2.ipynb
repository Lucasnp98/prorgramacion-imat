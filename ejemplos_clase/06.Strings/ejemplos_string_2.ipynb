{
 "cells": [
  {
   "cell_type": "code",
   "execution_count": null,
   "id": "82807ed6",
   "metadata": {},
   "outputs": [
    {
     "name": "stdout",
     "output_type": "stream",
     "text": [
      "la es\n"
     ]
    }
   ],
   "source": [
    "cadena = \"Hola esto es una cadena\"\n",
    "sub_cadena = cadena[2:7]\n",
    "print(sub_cadena)"
   ]
  },
  {
   "cell_type": "code",
   "execution_count": 3,
   "id": "a4571154",
   "metadata": {},
   "outputs": [
    {
     "name": "stdout",
     "output_type": "stream",
     "text": [
      "Hola \n",
      "esto es una cadena\n"
     ]
    }
   ],
   "source": [
    "sub_cadena = cadena[:5]\n",
    "print(sub_cadena)\n",
    "sub_cadena = cadena[5:]\n",
    "print(sub_cadena)"
   ]
  },
  {
   "cell_type": "code",
   "execution_count": 5,
   "id": "26941f0d",
   "metadata": {},
   "outputs": [
    {
     "name": "stdout",
     "output_type": "stream",
     "text": [
      "Hl soe n aea\n"
     ]
    }
   ],
   "source": [
    "cadena = \"Hola esto es una cadena\"\n",
    "cadena_pares = cadena[::2]\n",
    "print(cadena_pares)"
   ]
  },
  {
   "cell_type": "code",
   "execution_count": null,
   "id": "429e3dc6",
   "metadata": {},
   "outputs": [
    {
     "name": "stdout",
     "output_type": "stream",
     "text": [
      "LUCAS\n",
      "DAVID\n"
     ]
    }
   ],
   "source": [
    "cadena = \"LUCASDAVIDMARIA\"\n",
    "\n",
    "nombre1 = cadena[0:5]\n",
    "print(nombre1)\n",
    "nombre2 = cadena[5:10]\n",
    "print(nombre2)\n"
   ]
  },
  {
   "cell_type": "code",
   "execution_count": 11,
   "id": "1f9b4454",
   "metadata": {},
   "outputs": [
    {
     "name": "stdout",
     "output_type": "stream",
     "text": [
      "LUCAS\n",
      "DAVID\n",
      "MARIA\n",
      "ROSAL\n"
     ]
    }
   ],
   "source": [
    "cadena = \"LUCASDAVIDMARIAROSAL\"\n",
    "LONGITUD_PALABRA = 5\n",
    "\n",
    "contador = 0\n",
    "inicio = 0\n",
    "fin = 5\n",
    "while contador < len(cadena) // LONGITUD_PALABRA:\n",
    "    sub_cadena = cadena[inicio:fin]\n",
    "    print(sub_cadena)\n",
    "    contador += 1\n",
    "    inicio = contador * LONGITUD_PALABRA\n",
    "    fin = (contador + 1)* LONGITUD_PALABRA\n"
   ]
  },
  {
   "cell_type": "code",
   "execution_count": 12,
   "id": "d4383721",
   "metadata": {},
   "outputs": [
    {
     "name": "stdout",
     "output_type": "stream",
     "text": [
      "satse lat euq aloH\n"
     ]
    }
   ],
   "source": [
    "cadena = \"Hola que tal estas\"\n",
    "cadena_al_reves = cadena[::-1]\n",
    "print(cadena_al_reves)"
   ]
  },
  {
   "cell_type": "code",
   "execution_count": 13,
   "id": "f0318ecd",
   "metadata": {},
   "outputs": [
    {
     "name": "stdout",
     "output_type": "stream",
     "text": [
      "El numero 121 es capicua\n"
     ]
    }
   ],
   "source": [
    "numero_str = input(\"Introduce un número\")\n",
    "\n",
    "numero_al_reves = numero_str[::-1]\n",
    "if numero_str == numero_al_reves:\n",
    "    print(f\"El numero {numero_str} es capicua\")\n",
    "else:\n",
    "    print(f\"El numero {numero_str} no es capicua\")"
   ]
  },
  {
   "cell_type": "code",
   "execution_count": 16,
   "id": "a0400a5e",
   "metadata": {},
   "outputs": [
    {
     "name": "stdout",
     "output_type": "stream",
     "text": [
      "1\n",
      "2\n",
      "3\n",
      "4\n",
      "5\n",
      "6\n",
      "7\n",
      "8\n",
      "9\n",
      "11\n"
     ]
    }
   ],
   "source": [
    "numero = 1\n",
    "FINAL = 20\n",
    "while numero < FINAL:\n",
    "    numero_str = str(numero)\n",
    "    numero_al_reves = numero_str[::-1]\n",
    "    if numero_str == numero_al_reves:\n",
    "        print(numero_str)\n",
    "\n",
    "    numero += 1"
   ]
  },
  {
   "cell_type": "code",
   "execution_count": null,
   "id": "9682a892",
   "metadata": {},
   "outputs": [
    {
     "name": "stdout",
     "output_type": "stream",
     "text": [
      "Lxcxs pxdríxs sxr xn pxcx más xrxgxnxl\n"
     ]
    }
   ],
   "source": [
    "cadena = \"LUcas podrías ser un poco más original\"\n",
    "salida = \"\"\n",
    "contador = 0\n",
    "vocales = \"aeiouáéíóú\"\n",
    "while contador < len(cadena):\n",
    "    if cadena[contador].lower() in vocales:\n",
    "        letra = \"x\"\n",
    "    else:\n",
    "        letra = cadena[contador]\n",
    "    \n",
    "    \n",
    "    salida += letra\n",
    "    \n",
    "    contador += 1\n",
    "    \n",
    "    \n",
    "print(salida)\n",
    "\n",
    "\n"
   ]
  },
  {
   "cell_type": "code",
   "execution_count": 24,
   "id": "924d64f0",
   "metadata": {},
   "outputs": [
    {
     "name": "stdout",
     "output_type": "stream",
     "text": [
      "\u001b[1;47m   \u001b[0m \u001b[1;47m   \u001b[0m \u001b[1;47m   \u001b[0m \u001b[1;47m   \u001b[0m \u001b[1;47m   \u001b[0m \n",
      "\n",
      "\u001b[1;47m   \u001b[0m \u001b[1;47m   \u001b[0m \u001b[1;47m   \u001b[0m \u001b[1;47m   \u001b[0m \u001b[1;47m   \u001b[0m \n",
      "\n"
     ]
    }
   ],
   "source": [
    "GRIS = \"\\033[1;47m\"\n",
    "VERDE = \"\\033[1;42m\"\n",
    "AMARILLO = \"\\033[1;43m\"\n",
    "DEFECTO = \"\\033[0m\"\n",
    "ROJO = \"\\033[0;41m\"\n",
    "\n",
    "palabra_objetivo = \"abcde\"\n",
    "palabra_vacia = \" \" * 5\n",
    "letra_vacia = \"   \"\n",
    "filas = 3\n",
    "while filas < 5:\n",
    "    columnas = 0\n",
    "    while columnas < len(palabra_vacia):\n",
    "        print(f\"{GRIS}{letra_vacia}{DEFECTO} \", end = \"\")  # Ojo con los escpacios, son los que permiten establecer la separación entre celdas\n",
    "        columnas += 1\n",
    "    print(\"\\n\")  # Los dos retornos de carro permiten establecer el espacio vertical\n",
    "    filas += 1"
   ]
  }
 ],
 "metadata": {
  "kernelspec": {
   "display_name": "base",
   "language": "python",
   "name": "python3"
  },
  "language_info": {
   "codemirror_mode": {
    "name": "ipython",
    "version": 3
   },
   "file_extension": ".py",
   "mimetype": "text/x-python",
   "name": "python",
   "nbconvert_exporter": "python",
   "pygments_lexer": "ipython3",
   "version": "3.13.5"
  }
 },
 "nbformat": 4,
 "nbformat_minor": 5
}
