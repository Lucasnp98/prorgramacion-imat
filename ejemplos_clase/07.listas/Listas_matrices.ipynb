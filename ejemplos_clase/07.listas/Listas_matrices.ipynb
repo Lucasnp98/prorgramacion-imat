{
 "cells": [
  {
   "cell_type": "code",
   "execution_count": 7,
   "id": "7d5e0fd5",
   "metadata": {},
   "outputs": [
    {
     "name": "stdout",
     "output_type": "stream",
     "text": [
      "['Lucas', 'Ana', 'Dani']\n",
      "u\n",
      "Ana\n",
      "Dani\n",
      "Dani\n",
      "Ana\n"
     ]
    }
   ],
   "source": [
    "nombres = [\"Lucas\", \"Ana\", \"Dani\"]\n",
    "print(nombres)\n",
    "print(nombres[0][1])\n",
    "print(nombres[1])\n",
    "print(nombres[2])\n",
    "\n",
    "print(nombres[-1])\n",
    "print(nombres[-2])"
   ]
  },
  {
   "cell_type": "code",
   "execution_count": 8,
   "id": "326faf2e",
   "metadata": {},
   "outputs": [
    {
     "name": "stdout",
     "output_type": "stream",
     "text": [
      "Lucas\n",
      "Ana\n",
      "Dani\n"
     ]
    }
   ],
   "source": [
    "contador = 0\n",
    "while contador < len(nombres):\n",
    "    print(nombres[contador])\n",
    "    contador += 1"
   ]
  },
  {
   "cell_type": "code",
   "execution_count": 1,
   "id": "72d2b5b4",
   "metadata": {},
   "outputs": [
    {
     "name": "stdout",
     "output_type": "stream",
     "text": [
      "[1, 5.8, 'Lucas', True, [2, 3]]\n",
      "<class 'int'>\n",
      "<class 'float'>\n",
      "<class 'str'>\n",
      "<class 'bool'>\n",
      "<class 'list'>\n"
     ]
    }
   ],
   "source": [
    "lista = [1, 5.8, \"Lucas\", True, [2,3]]\n",
    "print(lista)\n",
    "contador = 0\n",
    "while contador < len(lista):\n",
    "    print(type(lista[contador]))\n",
    "    contador += 1"
   ]
  },
  {
   "cell_type": "code",
   "execution_count": 2,
   "id": "cfea86d1",
   "metadata": {},
   "outputs": [
    {
     "name": "stdout",
     "output_type": "stream",
     "text": [
      "['Lucas', 'Lucas', 'Lucas', 'Lucas', 'Lucas', 'Lucas', 'Lucas', 'Lucas', 'Lucas', 'Lucas']\n"
     ]
    }
   ],
   "source": [
    "lista = [\"Lucas\"] * 10\n",
    "print(lista)"
   ]
  },
  {
   "cell_type": "code",
   "execution_count": 3,
   "id": "ebe8f1cd",
   "metadata": {},
   "outputs": [
    {
     "ename": "TypeError",
     "evalue": "'str' object does not support item assignment",
     "output_type": "error",
     "traceback": [
      "\u001b[1;31m---------------------------------------------------------------------------\u001b[0m",
      "\u001b[1;31mTypeError\u001b[0m                                 Traceback (most recent call last)",
      "Cell \u001b[1;32mIn[3], line 3\u001b[0m\n\u001b[0;32m      1\u001b[0m nombre \u001b[38;5;241m=\u001b[39m \u001b[38;5;124m\"\u001b[39m\u001b[38;5;124mLucas\u001b[39m\u001b[38;5;124m\"\u001b[39m\n\u001b[1;32m----> 3\u001b[0m nombre[\u001b[38;5;241m0\u001b[39m] \u001b[38;5;241m=\u001b[39m \u001b[38;5;124m\"\u001b[39m\u001b[38;5;124mP\u001b[39m\u001b[38;5;124m\"\u001b[39m\n\u001b[0;32m      4\u001b[0m \u001b[38;5;28mprint\u001b[39m(nombre)\n",
      "\u001b[1;31mTypeError\u001b[0m: 'str' object does not support item assignment"
     ]
    }
   ],
   "source": [
    "nombre = \"Lucas\"\n",
    "\n",
    "nombre[0] = \"P\"\n",
    "print(nombre)"
   ]
  },
  {
   "cell_type": "code",
   "execution_count": 4,
   "id": "d627b489",
   "metadata": {},
   "outputs": [
    {
     "name": "stdout",
     "output_type": "stream",
     "text": [
      "['Manolo', 'Ana', 'Dani']\n"
     ]
    }
   ],
   "source": [
    "nombres = [\"Lucas\", \"Ana\", \"Dani\"]\n",
    "\n",
    "nombres[0] = \"Manolo\"\n",
    "print(nombres)"
   ]
  },
  {
   "cell_type": "code",
   "execution_count": null,
   "id": "df784574",
   "metadata": {},
   "outputs": [],
   "source": []
  },
  {
   "cell_type": "code",
   "execution_count": 6,
   "id": "7e07daf7",
   "metadata": {},
   "outputs": [
    {
     "name": "stdout",
     "output_type": "stream",
     "text": [
      "['Luis', 'Ana']\n",
      "['Manuel', 'Zahara', 'Ana', 'Luis', 'Lola']\n"
     ]
    }
   ],
   "source": [
    "nombres = [\"Lola\", \"Luis\", \"Ana\", \"Zahara\", \"Manuel\"]\n",
    "print(nombres[1:3])\n",
    "print(nombres[::-1])"
   ]
  },
  {
   "cell_type": "code",
   "execution_count": 7,
   "id": "595bd0bf",
   "metadata": {},
   "outputs": [
    {
     "name": "stdout",
     "output_type": "stream",
     "text": [
      "['d', 'h', 'q', 'w', 'u', 'g', 'd', 'g', 'w', 'e', 'g', 'd', 'u', 'i', 'w', 'e']\n"
     ]
    }
   ],
   "source": [
    "letras  = \"dhqwugdgwegduiwe\"\n",
    "lista_letras = list(letras)\n",
    "print(lista_letras)"
   ]
  },
  {
   "cell_type": "code",
   "execution_count": 9,
   "id": "16c28f23",
   "metadata": {},
   "outputs": [
    {
     "name": "stdout",
     "output_type": "stream",
     "text": [
      "[1, 2, 3, 4, 5, 6, 7, 8, 9]\n"
     ]
    }
   ],
   "source": [
    "rango = range(1,10)\n",
    "lista_rango = list(rango)\n",
    "print(lista_rango)"
   ]
  },
  {
   "cell_type": "code",
   "execution_count": 10,
   "id": "350843bf",
   "metadata": {},
   "outputs": [
    {
     "name": "stdout",
     "output_type": "stream",
     "text": [
      "[0, 1, 2, 3, 4, 5, 6, 7, 8, 9]\n"
     ]
    }
   ],
   "source": [
    "rango = range(10)\n",
    "lista_rango = list(rango)\n",
    "print(lista_rango)"
   ]
  },
  {
   "cell_type": "code",
   "execution_count": 11,
   "id": "165f3c6e",
   "metadata": {},
   "outputs": [
    {
     "name": "stdout",
     "output_type": "stream",
     "text": [
      "[1, 3, 5, 7, 9]\n"
     ]
    }
   ],
   "source": [
    "rango = range(1,10, 2)\n",
    "lista_rango = list(rango)\n",
    "print(lista_rango)"
   ]
  },
  {
   "cell_type": "code",
   "execution_count": 12,
   "id": "c5d48359",
   "metadata": {},
   "outputs": [
    {
     "name": "stdout",
     "output_type": "stream",
     "text": [
      "[10, 9, 8, 7, 6, 5, 4, 3, 2]\n"
     ]
    }
   ],
   "source": [
    "rango = range(10,1, -1)\n",
    "lista_rango = list(rango)\n",
    "print(lista_rango)"
   ]
  },
  {
   "cell_type": "code",
   "execution_count": 13,
   "id": "89c33015",
   "metadata": {},
   "outputs": [
    {
     "name": "stdout",
     "output_type": "stream",
     "text": [
      "<class 'list_reverseiterator'>\n",
      "['Manuel', 'Zahara', 'Ana', 'Luis', 'Lola']\n"
     ]
    }
   ],
   "source": [
    "nombres = [\"Lola\", \"Luis\", \"Ana\", \"Zahara\", \"Manuel\"]\n",
    "nombres_reversed = reversed(nombres)\n",
    "print(type(nombres_reversed))\n",
    "lista_reversed = list(nombres_reversed)\n",
    "print(lista_reversed)"
   ]
  },
  {
   "cell_type": "code",
   "execution_count": 15,
   "id": "6accf5b9",
   "metadata": {},
   "outputs": [
    {
     "name": "stdout",
     "output_type": "stream",
     "text": [
      "['Lucas']\n",
      "['Lucas', 'Ana']\n"
     ]
    }
   ],
   "source": [
    "nombres = []\n",
    "\n",
    "nombres.append(\"Lucas\")\n",
    "print(nombres)\n",
    "nombres.append(\"Ana\")\n",
    "print(nombres)\n"
   ]
  },
  {
   "cell_type": "code",
   "execution_count": null,
   "id": "8a5238aa",
   "metadata": {},
   "outputs": [
    {
     "name": "stdout",
     "output_type": "stream",
     "text": [
      "['Teleco', 'Imat', 'Industriales']\n",
      "[9.0, 8.0, 8.0]\n",
      "['123', '456', '675']\n"
     ]
    }
   ],
   "source": [
    "num_alumnos = int(input(\"Introduce el numero de alumnos: \"))\n",
    "while num_alumnos < 0:\n",
    "    num_alumnos = int(input(\"Introduce el numero de alumnos: \"))\n",
    "    \n",
    "\n",
    "claves = []\n",
    "notas = []\n",
    "carreras = []\n",
    "contador = 0\n",
    "while contador < num_alumnos:\n",
    "    clave = input(\"Introduce la clave del alumno: \")\n",
    "    \n",
    "    while clave in claves:\n",
    "        clave = input(\"Introduce la clave del alumno: \")\n",
    "        \n",
    "    claves.append(clave)    \n",
    "    nota = float(input(\"Introduce tu nota: \"))\n",
    "    notas.append(nota)\n",
    "    carrera = input(\"Introduce la carrera: \")\n",
    "    carreras.append(carrera)\n",
    "    contador += 1\n",
    "\n",
    "\n",
    "print(carreras)\n",
    "print(notas)\n",
    "print(claves)\n",
    "\n",
    "\n"
   ]
  },
  {
   "cell_type": "code",
   "execution_count": null,
   "id": "e75363e4",
   "metadata": {},
   "outputs": [],
   "source": []
  },
  {
   "cell_type": "code",
   "execution_count": null,
   "id": "e3d27d50",
   "metadata": {},
   "outputs": [
    {
     "name": "stdout",
     "output_type": "stream",
     "text": [
      "0\n",
      "El alumno 123 estudia Teleco y ha sacado un 9.0\n"
     ]
    }
   ],
   "source": [
    "claves = ['123', '456', '675']\n",
    "carreras = ['Teleco', 'Imat', 'Industriales']\n",
    "notas = [9.0, 8.0, 8.0]\n",
    "clave = input(\"Introduce la clave del alumno: \")\n",
    "\n",
    "while clave not in claves:\n",
    "    clave = input(\"Introduce la clave del alumno: \")\n",
    "    \n",
    "posicion = claves.index(clave)\n",
    "\n",
    "carrera = carreras[posicion]\n",
    "nota = notas[posicion]\n",
    "\n",
    "print(f\"El alumno {clave} estudia {carrera} y ha sacado un {nota}\")\n",
    "\n",
    "\n",
    "\n"
   ]
  },
  {
   "cell_type": "code",
   "execution_count": 25,
   "id": "602019a2",
   "metadata": {},
   "outputs": [
    {
     "name": "stdout",
     "output_type": "stream",
     "text": [
      "El alumno con la notaa maxima es: 456\n"
     ]
    }
   ],
   "source": [
    "claves = ['123', '456', '675']\n",
    "carreras = ['Teleco', 'Imat', 'Industriales']\n",
    "notas = [9.0, 10, 10]\n",
    "\n",
    "\n",
    "maximo = max(notas)\n",
    "posicion = notas.index(maximo)\n",
    "clave = claves[posicion]\n",
    "print(f\"El alumno con la notaa maxima es: {clave}\")\n",
    "\n"
   ]
  },
  {
   "cell_type": "code",
   "execution_count": 27,
   "id": "c0f0e324",
   "metadata": {},
   "outputs": [
    {
     "name": "stdout",
     "output_type": "stream",
     "text": [
      "['123', '12643', '456', '675']\n"
     ]
    }
   ],
   "source": [
    "claves = ['123', '456', '675']\n",
    "claves.insert(1, \"12643\")\n",
    "print(claves)"
   ]
  },
  {
   "cell_type": "code",
   "execution_count": 35,
   "id": "5714da7e",
   "metadata": {},
   "outputs": [
    {
     "name": "stdout",
     "output_type": "stream",
     "text": [
      "['Lola', 'Ana', 'Zahara', 'Manuel']\n"
     ]
    }
   ],
   "source": [
    "nombres = [\"Lola\", \"Luis\", \"Ana\", \"Zahara\", \"Manuel\"]\n",
    "nombres.remove(\"Luis\")            # se eliminará el elemento llamado \"Luis\"\n",
    "print(nombres)"
   ]
  },
  {
   "cell_type": "code",
   "execution_count": 30,
   "id": "3dc10fa7",
   "metadata": {},
   "outputs": [
    {
     "name": "stdout",
     "output_type": "stream",
     "text": [
      "Manuel\n",
      "['Lola', 'Luis', 'Ana', 'Zahara']\n"
     ]
    }
   ],
   "source": [
    "nombres = [\"Lola\", \"Luis\", \"Ana\", \"Zahara\", \"Manuel\"]\n",
    "ultimo_nombre = nombres.pop()\n",
    "\n",
    "print(ultimo_nombre)\n",
    "\n",
    "print(nombres)"
   ]
  },
  {
   "cell_type": "code",
   "execution_count": 32,
   "id": "cc229818",
   "metadata": {},
   "outputs": [
    {
     "name": "stdout",
     "output_type": "stream",
     "text": [
      "Ana\n",
      "['Lola', 'Luis', 'Zahara', 'Manuel']\n"
     ]
    }
   ],
   "source": [
    "nombres = [\"Lola\", \"Luis\", \"Ana\", \"Zahara\", \"Manuel\"]\n",
    "nombre = nombres.pop(2)\n",
    "\n",
    "print(nombre)\n",
    "\n",
    "print(nombres)"
   ]
  },
  {
   "cell_type": "code",
   "execution_count": null,
   "id": "92d5c0b0",
   "metadata": {},
   "outputs": [
    {
     "name": "stdout",
     "output_type": "stream",
     "text": [
      "7\n"
     ]
    }
   ],
   "source": [
    "lista = [1,2,1,1,1,1,1,2,1,2,3,34,4,4]\n",
    "recuento = lista.count(1)\n",
    "print(recuento)\n"
   ]
  },
  {
   "cell_type": "code",
   "execution_count": 37,
   "id": "417375a7",
   "metadata": {},
   "outputs": [
    {
     "name": "stdout",
     "output_type": "stream",
     "text": [
      "[]\n"
     ]
    }
   ],
   "source": [
    "lista = [1,2,1,1,1,1,1,2,1,2,3,34,4,4]\n",
    "lista.clear()\n",
    "print(lista)"
   ]
  },
  {
   "cell_type": "code",
   "execution_count": 38,
   "id": "5a993c9f",
   "metadata": {},
   "outputs": [
    {
     "name": "stdout",
     "output_type": "stream",
     "text": [
      "['Ana', 'Lola', 'Luis', 'Manuel', 'Zahara']\n"
     ]
    }
   ],
   "source": [
    "nombres = [\"Lola\", \"Luis\", \"Ana\", \"Zahara\", \"Manuel\"]\n",
    "nombres.sort()\n",
    "print(nombres)"
   ]
  },
  {
   "cell_type": "code",
   "execution_count": 46,
   "id": "1ec33a2d",
   "metadata": {},
   "outputs": [
    {
     "data": {
      "image/png": "[encoded data removed]",
      "text/plain": [
       "<Figure size 640x480 with 1 Axes>"
      ]
     },
     "metadata": {},
     "output_type": "display_data"
    }
   ],
   "source": [
    "import matplotlib.pyplot as plt\n",
    "\n",
    "eje_x = [\"Lucas\", \"Ana\", \"Dani\", \"Paula\"]\n",
    "eje_y = [5,2,5,3]\n",
    "\n",
    "plt.bar(eje_x, eje_y)\n",
    "\n",
    "plt.title(\"Frecuencia de gimnasio de los amigos\")\n",
    "plt.xlabel(\"Nombre de los amigos\")\n",
    "plt.ylabel(\"Frecuencia de gimnasio\")\n",
    "plt.grid()\n",
    "\n",
    "\n"
   ]
  },
  {
   "cell_type": "code",
   "execution_count": 48,
   "id": "d0402f75",
   "metadata": {},
   "outputs": [
    {
     "data": {
      "text/plain": [
       "[<matplotlib.lines.Line2D at 0x21bc28fc690>]"
      ]
     },
     "execution_count": 48,
     "metadata": {},
     "output_type": "execute_result"
    },
    {
     "data": {
      "image/png": "[encoded data removed]",
      "text/plain": [
       "<Figure size 640x480 with 1 Axes>"
      ]
     },
     "metadata": {},
     "output_type": "display_data"
    }
   ],
   "source": [
    "eje_x = [-1, 0,1,2,3,4,5]\n",
    "eje_y = [-1, 0,1,2,3,4,5]\n",
    "\n",
    "plt.plot(eje_x, eje_y)"
   ]
  },
  {
   "cell_type": "code",
   "execution_count": 44,
   "id": "ed5a4b38",
   "metadata": {},
   "outputs": [
    {
     "data": {
      "text/plain": [
       "[<matplotlib.lines.Line2D at 0x21bc2b851d0>]"
      ]
     },
     "execution_count": 44,
     "metadata": {},
     "output_type": "execute_result"
    },
    {
     "data": {
      "image/png": "[encoded data removed]",
      "text/plain": [
       "<Figure size 640x480 with 1 Axes>"
      ]
     },
     "metadata": {},
     "output_type": "display_data"
    }
   ],
   "source": [
    "valor = 0\n",
    "fin = 100\n",
    "\n",
    "\n",
    "eje_x = []\n",
    "eje_y = []\n",
    "while valor < fin:\n",
    "    eje_x.append(valor)\n",
    "    imagen = valor ** 2\n",
    "    eje_y.append(imagen)\n",
    "    valor += 1\n",
    "\n",
    "plt.plot(eje_x, eje_y)"
   ]
  },
  {
   "cell_type": "markdown",
   "id": "f46d7c38",
   "metadata": {},
   "source": [
    "#### Se pide un programa que dada una lista de alumnos y una lista de notas, cree un diagrama de barras con las notas de los alumnos que superen cierto umbral. Este umbral será definido como una variable."
   ]
  },
  {
   "cell_type": "code",
   "execution_count": 52,
   "id": "b9e7d1a7",
   "metadata": {},
   "outputs": [
    {
     "data": {
      "text/plain": [
       "Text(0, 0.5, 'Notas')"
      ]
     },
     "execution_count": 52,
     "metadata": {},
     "output_type": "execute_result"
    },
    {
     "data": {
      "image/png": "[encoded data removed]",
      "text/plain": [
       "<Figure size 640x480 with 1 Axes>"
      ]
     },
     "metadata": {},
     "output_type": "display_data"
    }
   ],
   "source": [
    "alumnos = [\"Pepe\",\" Dani\", \"Jose\", \"Martín\", \"Ana\"]\n",
    "notas = [5,8,3,9, 6]\n",
    "umbral = 4\n",
    "\n",
    "i = 0\n",
    "eje_x = []\n",
    "eje_y = []\n",
    "while i < len(notas):\n",
    "    \n",
    "    if notas[i] > umbral:\n",
    "        eje_x.append(alumnos[i])\n",
    "        eje_y.append(notas[i])\n",
    "        \n",
    "    \n",
    "    i += 1\n",
    "\n",
    "\n",
    "\n",
    "plt.bar(eje_x, eje_y)\n",
    "plt.title(f\"Notas mayores que {umbral}\")\n",
    "plt.xlabel(\"Nombres\")\n",
    "plt.ylabel(\"Notas\")\n",
    "\n"
   ]
  },
  {
   "cell_type": "code",
   "execution_count": 53,
   "id": "f3380d19",
   "metadata": {},
   "outputs": [
    {
     "name": "stdout",
     "output_type": "stream",
     "text": [
      "Bienvenido Ana\n",
      "--------------------------------------------------\n",
      "Bienvenido Dani\n",
      "--------------------------------------------------\n",
      "Bienvenido Pepe\n",
      "--------------------------------------------------\n",
      "[[6.0, 7.0, 8.0], [4.0, 6.0, 7.0], [5.0, 4.0, 5.0]]\n"
     ]
    }
   ],
   "source": [
    "nombres = [\"Ana\", \"Dani\", \"Pepe\"]\n",
    "asignaturas = [\"Calculo\",\" Algebra\", \"Progra\"]\n",
    "notas = []\n",
    "\n",
    "contador_alumnos = 0\n",
    "while contador_alumnos < len(nombres):\n",
    "    notas_alumno = []\n",
    "    contador_notas = 0\n",
    "    print(f\"Bienvenido {nombres[contador_alumnos]}\")\n",
    "    print(\"-\" * 50)\n",
    "    while contador_notas < len(asignaturas):\n",
    "        \n",
    "        nota = float(input(f\"Introduce tu nota en {asignaturas[contador_notas]}\"))\n",
    "        notas_alumno.append(nota)\n",
    "        \n",
    "        contador_notas += 1\n",
    "    notas.append(notas_alumno)\n",
    "    contador_alumnos += 1\n",
    "    \n",
    "print(notas)\n"
   ]
  },
  {
   "cell_type": "markdown",
   "id": "dcf8d8d4",
   "metadata": {},
   "source": [
    "### Con la matriz de notas, se pide: \n",
    "- 1. Dado un alumnno (su nombre), graficar en un diagrama de barras sus notas. \n",
    "- 2. Pedir una asignatura con un input y graficar todas las notas de la asignatura\n",
    "- 3. Graficar la nota media de cada uno de los alumnos. \n",
    "- 4. Sacar  las notas del alumno con la media maxima sin usar max. "
   ]
  },
  {
   "cell_type": "code",
   "execution_count": null,
   "id": "61f30a81",
   "metadata": {},
   "outputs": [
    {
     "name": "stdout",
     "output_type": "stream",
     "text": [
      "[5.0, 4.0, 5.0]\n"
     ]
    },
    {
     "data": {
      "text/plain": [
       "Text(0.5, 1.0, 'Notas de Pepe')"
      ]
     },
     "execution_count": 57,
     "metadata": {},
     "output_type": "execute_result"
    },
    {
     "data": {
      "image/png": "[encoded data removed]",
      "text/plain": [
       "<Figure size 640x480 with 1 Axes>"
      ]
     },
     "metadata": {},
     "output_type": "display_data"
    }
   ],
   "source": [
    "matriz = [[6.0, 7.0, 8.0], [4.0, 6.0, 7.0], [5.0, 4.0, 5.0]]\n",
    "nombres = [\"Dani\", \"Ana\", \"Pepe\"]\n",
    "asignaturas = [\"Calculo\",\"Algebra\", \"Progra\"]\n",
    "\n",
    "alumno_buscar = \"Pepe\"\n",
    "fila = nombres.index(alumno_buscar)\n",
    "notas_alu = matriz[fila]\n",
    "print(notas_alu)\n",
    "\n",
    "plt.bar(asignaturas, notas_alu)\n",
    "plt.title(f\"Notas de {alumno_buscar}\")\n",
    "\n"
   ]
  },
  {
   "cell_type": "code",
   "execution_count": 58,
   "id": "bbde83b7",
   "metadata": {},
   "outputs": [
    {
     "data": {
      "text/plain": [
       "Text(0.5, 1.0, 'Notas de Calculo')"
      ]
     },
     "execution_count": 58,
     "metadata": {},
     "output_type": "execute_result"
    },
    {
     "data": {
      "image/png": "[encoded data removed]",
      "text/plain": [
       "<Figure size 640x480 with 1 Axes>"
      ]
     },
     "metadata": {},
     "output_type": "display_data"
    }
   ],
   "source": [
    "asignatura = \"Calculo\"\n",
    "\n",
    "matriz = [[6.0, 7.0, 8.0], [4.0, 6.0, 7.0], [5.0, 4.0, 5.0]]\n",
    "nombres = [\"Dani\", \"Ana\", \"Pepe\"]\n",
    "asignaturas = [\"Calculo\",\"Algebra\", \"Progra\"]\n",
    "\n",
    "columna = asignaturas.index(asignatura)\n",
    "notas_asignatura = []\n",
    "\n",
    "fila = 0\n",
    "while fila < len(matriz):\n",
    "    nota = matriz[fila][columna]\n",
    "    notas_asignatura.append(nota)\n",
    "    fila += 1\n",
    "    \n",
    "\n",
    "\n",
    "plt.bar(nombres, notas_asignatura)\n",
    "plt.title(f\"Notas de {asignatura}\")\n"
   ]
  },
  {
   "cell_type": "code",
   "execution_count": 59,
   "id": "caea9104",
   "metadata": {},
   "outputs": [
    {
     "data": {
      "text/plain": [
       "Text(0.5, 1.0, 'Notas medias de los queridos alumnos')"
      ]
     },
     "execution_count": 59,
     "metadata": {},
     "output_type": "execute_result"
    },
    {
     "data": {
      "image/png": "[encoded data removed]",
      "text/plain": [
       "<Figure size 640x480 with 1 Axes>"
      ]
     },
     "metadata": {},
     "output_type": "display_data"
    }
   ],
   "source": [
    "\n",
    "matriz = [[6.0, 7.0, 8.0], [4.0, 6.0, 7.0], [5.0, 4.0, 5.0]]\n",
    "nombres = [\"Dani\", \"Ana\", \"Pepe\"]\n",
    "asignaturas = [\"Calculo\",\"Algebra\", \"Progra\"]\n",
    "notas_medias = []\n",
    "fila = 0\n",
    "while fila < len(nombres):\n",
    "    columna = 0\n",
    "    suma = 0\n",
    "    while columna < len(asignaturas):\n",
    "        suma += matriz[fila][columna]\n",
    "        columna += 1\n",
    "        \n",
    "    media = suma / len(asignaturas)\n",
    "    \n",
    "    notas_medias.append(media)    \n",
    "    fila += 1\n",
    "        \n",
    "\n",
    "\n",
    "\n",
    "\n",
    "plt.bar(nombres, notas_medias)\n",
    "plt.title(f\"Notas medias de los queridos alumnos\")\n"
   ]
  }
 ],
 "metadata": {
  "kernelspec": {
   "display_name": "base",
   "language": "python",
   "name": "python3"
  },
  "language_info": {
   "codemirror_mode": {
    "name": "ipython",
    "version": 3
   },
   "file_extension": ".py",
   "mimetype": "text/x-python",
   "name": "python",
   "nbconvert_exporter": "python",
   "pygments_lexer": "ipython3",
   "version": "3.13.5"
  }
 },
 "nbformat": 4,
 "nbformat_minor": 5
}
