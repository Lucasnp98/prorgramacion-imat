{
 "cells": [
  {
   "cell_type": "code",
   "execution_count": 9,
   "id": "6597fef4-b161-4a18-b960-9bbdeccea523",
   "metadata": {},
   "outputs": [
    {
     "name": "stdout",
     "output_type": "stream",
     "text": [
      "#      #\n"
     ]
    }
   ],
   "source": [
    "print(\"#\", end = \"      \")\n",
    "print(\"#\")\n",
    "\n"
   ]
  },
  {
   "cell_type": "code",
   "execution_count": 23,
   "id": "f3134297-26fc-4fa1-ba2b-0c8965bbb294",
   "metadata": {},
   "outputs": [
    {
     "name": "stdout",
     "output_type": "stream",
     "text": [
      "2 3\n"
     ]
    }
   ],
   "source": [
    "x = 17\n",
    "y = 5\n",
    "q = 0\n",
    "while x >= y:\n",
    "    j = 0\n",
    "    while j < y:\n",
    "        x = x - 1\n",
    "        j = j + 1\n",
    "    q = q + 1\n",
    "print(x, q)\n"
   ]
  },
  {
   "cell_type": "code",
   "execution_count": 22,
   "id": "17bac94e-ca48-478a-af5a-5d8052248b8c",
   "metadata": {},
   "outputs": [
    {
     "name": "stdout",
     "output_type": "stream",
     "text": [
      "#########\n",
      "#       #\n",
      "#       #\n",
      "#       #\n",
      "#########\n"
     ]
    }
   ],
   "source": [
    "FILA_MAX = 5\n",
    "columna = 9\n",
    "fila = 0\n",
    "while fila < FILA_MAX:\n",
    "    j = 0\n",
    "    s = \"\"\n",
    "    while j < columna:\n",
    "        if fila == 0 or j == 0 or fila == FILA_MAX - 1 or j == columna - 1:\n",
    "            print(\"#\", end = \"\")\n",
    "        else:\n",
    "            print(\" \", end = \"\")\n",
    "        j += 1\n",
    "    print()\n",
    "    fila += 1\n"
   ]
  }
 ],
 "metadata": {
  "kernelspec": {
   "display_name": "Python 3 (ipykernel)",
   "language": "python",
   "name": "python3"
  },
  "language_info": {
   "codemirror_mode": {
    "name": "ipython",
    "version": 3
   },
   "file_extension": ".py",
   "mimetype": "text/x-python",
   "name": "python",
   "nbconvert_exporter": "python",
   "pygments_lexer": "ipython3",
   "version": "3.13.5"
  }
 },
 "nbformat": 4,
 "nbformat_minor": 5
}
