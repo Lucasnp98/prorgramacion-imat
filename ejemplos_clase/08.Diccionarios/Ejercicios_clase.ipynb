{
 "cells": [
  {
   "cell_type": "code",
   "execution_count": 8,
   "id": "b07559c9",
   "metadata": {},
   "outputs": [
    {
     "name": "stdout",
     "output_type": "stream",
     "text": [
      "{201606771: 'Lucas', 2017: 'Ana', 2018: 'Dani'}\n",
      "Lucas\n",
      "Ana\n",
      "{201606771: 'Lucas', 2017: 'María', 2018: 'Dani'}\n",
      "{201606771: 'Lucas', 2017: 'María', 2018: 'Dani', 2015: 'Manolo'}\n"
     ]
    }
   ],
   "source": [
    "alumnos = {201606771: \"Lucas\", 2017:\"Ana\", 2018:\"Dani\"}\n",
    "print(alumnos)\n",
    "print(alumnos[201606771])\n",
    "print(alumnos[2017])\n",
    "\n",
    "\n",
    "\n",
    "alumnos[2017] = \"María\"\n",
    "print(alumnos)\n",
    "\n",
    "alumnos[2015] = \"Manolo\"\n",
    "print(alumnos)\n"
   ]
  },
  {
   "cell_type": "code",
   "execution_count": 13,
   "id": "e5512a75",
   "metadata": {},
   "outputs": [
    {
     "name": "stdout",
     "output_type": "stream",
     "text": [
      "{2016: {'Calc': 5, 'Alg': 2}, 2017: {'Calc': 5, 'Alg': 2}}\n",
      "5\n",
      "{2016: {'Calc': 5, 'Alg': 2}, 2017: {'Calc': 5, 'Alg': 3}}\n",
      "{2016: {'Calc': 5, 'Alg': 2}, 2017: {'Calc': 5, 'Alg': 3}, 2019: {'Calc': 5, 'Alg': 6}}\n",
      "{2016: {'Calc': 5, 'Alg': 2}, 2017: {'Calc': 5, 'Alg': 3}, 2019: {'Calc': 5, 'Alg': 6, 'Fisica': 6}}\n"
     ]
    }
   ],
   "source": [
    "alumnos = {2016: {\"Calc\":5, \"Alg\":2},\n",
    "           2017: {\"Calc\":5, \"Alg\":2}}\n",
    "print(alumnos)\n",
    "\n",
    "print(alumnos[2016][\"Calc\"])\n",
    "\n",
    "alumnos[2017][\"Alg\"] = 3\n",
    "print(alumnos)\n",
    "\n",
    "alumnos[2019] = {\"Calc\":5, \"Alg\": 6}\n",
    "print(alumnos)\n",
    "\n",
    "alumnos[2019][\"Fisica\"] = 6\n",
    "print(alumnos)"
   ]
  },
  {
   "cell_type": "code",
   "execution_count": null,
   "id": "75b248a8",
   "metadata": {},
   "outputs": [
    {
     "name": "stdout",
     "output_type": "stream",
     "text": [
      "201606771 Lucas\n",
      "2017 Ana\n",
      "2018 Dani\n"
     ]
    }
   ],
   "source": [
    "alumnos = {201606771: \"Lucas\", 2017:\"Ana\", 2018:\"Dani\"}\n",
    "\n",
    "for clave in alumnos:\n",
    "    print(clave,alumnos[clave])\n",
    "\n",
    "    "
   ]
  },
  {
   "cell_type": "code",
   "execution_count": 18,
   "id": "77f65ed9",
   "metadata": {},
   "outputs": [
    {
     "name": "stdout",
     "output_type": "stream",
     "text": [
      "Ya tenemos esa clave\n",
      "{'2016': [5.0, 6.0, 5.0], '2017': [6.0, 5.0, 7.0], '2018': [7.0, 6.0, 7.0]}\n"
     ]
    }
   ],
   "source": [
    "alumnos = {}\n",
    "\n",
    "num_alu = 3\n",
    "asignaturas = [\"Calculo\", \"Algebra\", \"Progra\"]\n",
    "num_asig = len(asignaturas)\n",
    "\n",
    "cont_alumnos = 0\n",
    "\n",
    "while cont_alumnos < num_alu:\n",
    "    clave = input(\"Introduce tu clave: \")\n",
    "    while clave in alumnos:\n",
    "        print(\"Ya tenemos esa clave\")\n",
    "        clave = input(\"Introduce tu clave: \")\n",
    "    cont_notas = 0\n",
    "    notas_alu = []\n",
    "    while cont_notas < num_asig:\n",
    "        \n",
    "        nota_str = input(f\"Introduce tu nota en {asignaturas[cont_notas]}: \")\n",
    "        nota_float = float(nota_str)\n",
    "        notas_alu.append(nota_float)\n",
    "        cont_notas += 1\n",
    "    alumnos[clave] = notas_alu\n",
    "    \n",
    "    cont_alumnos += 1\n",
    "print(alumnos)\n",
    "\n"
   ]
  },
  {
   "cell_type": "code",
   "execution_count": 19,
   "id": "b52ced65",
   "metadata": {},
   "outputs": [
    {
     "name": "stdout",
     "output_type": "stream",
     "text": [
      "{'2017': {'Calculo': 5.0, 'Algebra': 6.0, 'Progra': 7.0}, '2018': {'Calculo': 6.0, 'Algebra': 5.0, 'Progra': 6.0}, '2019': {'Calculo': 4.0, 'Algebra': 5.0, 'Progra': 4.0}}\n"
     ]
    }
   ],
   "source": [
    "alumnos = {}\n",
    "\n",
    "num_alu = 3\n",
    "asignaturas = [\"Calculo\", \"Algebra\", \"Progra\"]\n",
    "num_asig = len(asignaturas)\n",
    "\n",
    "cont_alumnos = 0\n",
    "\n",
    "while cont_alumnos < num_alu:\n",
    "    clave = input(\"Introduce tu clave: \")\n",
    "    while clave in alumnos:\n",
    "        print(\"Ya tenemos esa clave\")\n",
    "        clave = input(\"Introduce tu clave: \")\n",
    "    cont_notas = 0\n",
    "    dic_alu = {}\n",
    "    while cont_notas < num_asig:\n",
    "        \n",
    "        nota_str = input(f\"Introduce tu nota en {asignaturas[cont_notas]}: \")\n",
    "        nota_float = float(nota_str)\n",
    "        dic_alu[asignaturas[cont_notas]] = nota_float\n",
    "        cont_notas += 1\n",
    "    alumnos[clave] = dic_alu\n",
    "    \n",
    "    \n",
    "    cont_alumnos += 1\n",
    "print(alumnos)\n",
    "\n"
   ]
  },
  {
   "cell_type": "code",
   "execution_count": 20,
   "id": "ccbafbb4",
   "metadata": {},
   "outputs": [
    {
     "name": "stdout",
     "output_type": "stream",
     "text": [
      "2016 [5.0, 6.0, 5.0]\n",
      "2017 [6.0, 5.0, 7.0]\n",
      "2018 [7.0, 6.0, 7.0]\n"
     ]
    }
   ],
   "source": [
    "alumnos = {'2016': [5.0, 6.0, 5.0], \n",
    "           '2017': [6.0, 5.0, 7.0], \n",
    "           '2018': [7.0, 6.0, 7.0]}\n",
    "\n",
    "for clave in alumnos:\n",
    "    print(clave, alumnos[clave])\n",
    "    "
   ]
  },
  {
   "cell_type": "code",
   "execution_count": 21,
   "id": "abd814be",
   "metadata": {},
   "outputs": [
    {
     "name": "stdout",
     "output_type": "stream",
     "text": [
      "2016 [5.0, 6.0, 5.0]\n",
      "2017 [6.0, 5.0, 7.0]\n",
      "2018 [7.0, 6.0, 7.0]\n"
     ]
    }
   ],
   "source": [
    "alumnos = {'2016': [5.0, 6.0, 5.0], \n",
    "           '2017': [6.0, 5.0, 7.0], \n",
    "           '2018': [7.0, 6.0, 7.0]}\n",
    "\n",
    "for clave in alumnos.keys():\n",
    "    print(clave, alumnos[clave])\n",
    "    "
   ]
  },
  {
   "cell_type": "code",
   "execution_count": 23,
   "id": "c65861d4",
   "metadata": {},
   "outputs": [
    {
     "name": "stdout",
     "output_type": "stream",
     "text": [
      "[5.0, 6.0, 5.0]\n",
      "[6.0, 5.0, 7.0]\n",
      "[7.0, 6.0, 7.0]\n"
     ]
    }
   ],
   "source": [
    "alumnos = {'2016': [5.0, 6.0, 5.0], \n",
    "           '2017': [6.0, 5.0, 7.0], \n",
    "           '2018': [7.0, 6.0, 7.0]}\n",
    "\n",
    "for valor in alumnos.values():\n",
    "    print(valor)\n",
    "    "
   ]
  },
  {
   "cell_type": "code",
   "execution_count": 24,
   "id": "e5c7b23e",
   "metadata": {},
   "outputs": [
    {
     "name": "stdout",
     "output_type": "stream",
     "text": [
      "('2016', [5.0, 6.0, 5.0])\n",
      "('2017', [6.0, 5.0, 7.0])\n",
      "('2018', [7.0, 6.0, 7.0])\n"
     ]
    }
   ],
   "source": [
    "alumnos = {'2016': [5.0, 6.0, 5.0], \n",
    "           '2017': [6.0, 5.0, 7.0], \n",
    "           '2018': [7.0, 6.0, 7.0]}\n",
    "\n",
    "for item in alumnos.items():\n",
    "    print(item)\n",
    "    "
   ]
  },
  {
   "cell_type": "code",
   "execution_count": 25,
   "id": "7c410ee2",
   "metadata": {},
   "outputs": [
    {
     "name": "stdout",
     "output_type": "stream",
     "text": [
      "2016 [5.0, 6.0, 5.0]\n",
      "2017 [6.0, 5.0, 7.0]\n",
      "2018 [7.0, 6.0, 7.0]\n"
     ]
    }
   ],
   "source": [
    "alumnos = {'2016': [5.0, 6.0, 5.0], \n",
    "           '2017': [6.0, 5.0, 7.0], \n",
    "           '2018': [7.0, 6.0, 7.0]}\n",
    "\n",
    "for clave, valor in alumnos.items():\n",
    "    print(clave, valor)\n",
    "    "
   ]
  },
  {
   "cell_type": "markdown",
   "id": "9748d423",
   "metadata": {},
   "source": [
    "#### A partir del diccionario alumnos\n",
    "- Obten un nuevo diccionario donde la clave siga siendo la clave del alumno\n",
    " y el valor sea su nota media. "
   ]
  },
  {
   "cell_type": "code",
   "execution_count": 27,
   "id": "fbae25d7",
   "metadata": {},
   "outputs": [
    {
     "name": "stdout",
     "output_type": "stream",
     "text": [
      "{'2016': 5.33, '2017': 6.0, '2018': 6.67}\n"
     ]
    }
   ],
   "source": [
    "alumnos = {'2016': [5.0, 6.0, 5.0], \n",
    "           '2017': [6.0, 5.0, 7.0], \n",
    "           '2018': [7.0, 6.0, 7.0]}\n",
    "\n",
    "dic_medias = {}\n",
    "\n",
    "for clave in alumnos:\n",
    "    valor = alumnos[clave]\n",
    "    media = sum(valor) / len(valor)\n",
    "    media = round(media, 2)\n",
    "    dic_medias[clave] = media\n",
    "print(dic_medias)"
   ]
  },
  {
   "cell_type": "code",
   "execution_count": 36,
   "id": "4e1754b8",
   "metadata": {},
   "outputs": [
    {
     "name": "stdout",
     "output_type": "stream",
     "text": [
      "Lima Uniform Charlie Alfa Sierra  Eco Sierra  Foxtrot Eco Oscar 7\n"
     ]
    }
   ],
   "source": [
    "codificaciones = {\n",
    "    \"morse\": {\n",
    "        'a': '.-',    'b': '-...',  'c': '-.-.',  'd': '-..',   'e': '.',\n",
    "        'f': '..-.',  'g': '--.',   'h': '....',  'i': '..',    'j': '.---',\n",
    "        'k': '-.-',   'l': '.-..',  'm': '--',    'n': '-.',    'o': '---',\n",
    "        'p': '.--.',  'q': '--.-',  'r': '.-.',   's': '...',   't': '-',\n",
    "        'u': '..-',   'v': '...-',  'w': '.--',   'x': '-..-',  'y': '-.--',\n",
    "        'z': '--..',\n",
    "        'ñ': '--.--'\n",
    "    },\n",
    "    \"radiofonico\": {\n",
    "        'a': 'Alfa',     'b': 'Bravo',   'c': 'Charlie', 'd': 'Delta',  'e': 'Eco',\n",
    "        'f': 'Foxtrot',  'g': 'Golf',    'h': 'Hotel',   'i': 'India',  'j': 'Juliett',\n",
    "        'k': 'Kilo',     'l': 'Lima',    'm': 'Mike',    'n': 'November', 'ñ': 'Ñandú',\n",
    "        'o': 'Oscar',    'p': 'Papa',    'q': 'Quebec',  'r': 'Romeo',  's': 'Sierra',\n",
    "        't': 'Tango',    'u': 'Uniform', 'v': 'Victor',  'w': 'Whiskey', 'x': 'Xray',\n",
    "        'y': 'Yankee',   'z': 'Zulu'\n",
    "    }\n",
    "}\n",
    "\n",
    "\n",
    "cadena = \"Lucas es feo7\"\n",
    "cadena = cadena.lower()\n",
    "codificacion = \"radiofonico\"\n",
    "contador = 0\n",
    "cadena_codificada = \"\"\n",
    "while contador < len(cadena):\n",
    "    \n",
    "    letra = cadena[contador]\n",
    "    if letra in codificaciones[codificacion]:\n",
    "        code = codificaciones[codificacion][letra]\n",
    "        cadena_codificada += code + \" \"\n",
    "    else:\n",
    "        cadena_codificada += letra\n",
    "    \n",
    "    contador += 1\n",
    "print(cadena_codificada)\n"
   ]
  },
  {
   "cell_type": "markdown",
   "id": "ce066215",
   "metadata": {},
   "source": [
    "##### Obtener un diccionario que refleje el numero de puntos totales de los pilotos\n",
    "- El dic puntuaciones tiene como clave la posicion y como valor los puntos. \n",
    "- El dic pilotos tiene como clave el piloto y como valor su posicion en las ultimas carreras\n",
    "- Quiero obtener un diccionario que tenga como clave el piloto y como valor la suma de sus puntos"
   ]
  },
  {
   "cell_type": "code",
   "execution_count": null,
   "id": "8820a8e2",
   "metadata": {},
   "outputs": [
    {
     "name": "stdout",
     "output_type": "stream",
     "text": [
      "{'Alonso': 58, 'Carlos Sainz': 65, 'Max': 33}\n"
     ]
    }
   ],
   "source": [
    "dic_puntuaciones = {1:25, 2:18, 3:15, 4:12, 5:10, \"DNF\":0}\n",
    "dic_pilotos = {\"Alonso\": [1,2,3], \"Carlos Sainz\":[3,1,1], \"Max\":[\"DNF\", 3,2]}\n",
    "dic_puntos_piloto = {}\n",
    "\n",
    "\n",
    "for piloto in dic_pilotos.keys():\n",
    "    lista_resultados = dic_pilotos[piloto]\n",
    "    suma_puntos = 0\n",
    "    for resultado in lista_resultados:\n",
    "        puntuacion = dic_puntuaciones[resultado]\n",
    "        suma_puntos += puntuacion\n",
    "    dic_puntos_piloto[piloto] = suma_puntos\n",
    "        \n",
    "\n",
    "    \n",
    "\n",
    "\n"
   ]
  },
  {
   "cell_type": "code",
   "execution_count": 4,
   "id": "022204f4",
   "metadata": {},
   "outputs": [
    {
     "data": {
      "image/png": "[encoded data removed]",
      "text/plain": [
       "<Figure size 640x480 with 1 Axes>"
      ]
     },
     "metadata": {},
     "output_type": "display_data"
    }
   ],
   "source": [
    "import matplotlib.pyplot as plt\n",
    "\n",
    "dic_puntos_piloto = {'Alonso': 58, 'Carlos Sainz': 65, 'Max': 33}\n",
    "\n",
    "eje_x = []\n",
    "eje_y = []\n",
    "\n",
    "for piloto in dic_puntos_piloto:\n",
    "    puntos = dic_puntos_piloto[piloto]\n",
    "    eje_x.append(piloto)\n",
    "    eje_y.append(puntos)\n",
    "\n",
    "plt.figure()\n",
    "plt.bar(eje_x, eje_y)\n",
    "plt.title(\"Puntos por piloto\")\n",
    "plt.xlabel(\"Nombre de los pilotos\")\n",
    "plt.ylabel(\"Puntos de los pilotos\")\n",
    "plt.show()"
   ]
  },
  {
   "cell_type": "markdown",
   "id": "b2e934f5",
   "metadata": {},
   "source": [
    "#### Obtener un gráfico que muestre en cuántos paises se practican los distintos deportes. "
   ]
  },
  {
   "cell_type": "code",
   "execution_count": 6,
   "id": "46d9b4c5",
   "metadata": {},
   "outputs": [
    {
     "name": "stdout",
     "output_type": "stream",
     "text": [
      "{'Fútbol': ['España', 'Francia', 'Inglaterra'], 'Baloncesto': ['España', 'EEUU'], 'Tenis': ['España'], 'Esgrima': ['España'], 'Rugby': ['Francia'], 'Ajedrez': ['Francia'], 'Cricket': ['Inglaterra'], 'Baseball': ['Inglaterra', 'EEUU'], 'Futbol Americano': ['EEUU']}\n"
     ]
    }
   ],
   "source": [
    "paises_deporte = {\"España\" : [\"Fútbol\", \"Baloncesto\", \"Tenis\", \"Esgrima\" ], \n",
    "                  \n",
    "                  \"Francia\": [\"Fútbol\", \"Rugby\", \"Ajedrez\"],\n",
    "                  \"Inglaterra\": [\"Cricket\", \"Baseball\", \"Fútbol\"],\n",
    "                  \"EEUU\":[\"Baloncesto\", \"Futbol Americano\", \"Baseball\"]}\n",
    "deporte_paises = {}\n",
    "\n",
    "\n",
    "for pais in paises_deporte:\n",
    "    lista_deportes = paises_deporte[pais]\n",
    "    for deporte in lista_deportes:\n",
    "        \n",
    "        if deporte not in deporte_paises:\n",
    "            deporte_paises[deporte] = [pais]\n",
    "        else:\n",
    "            deporte_paises[deporte].append(pais)\n",
    "        \n",
    "print(deporte_paises)"
   ]
  },
  {
   "cell_type": "code",
   "execution_count": 8,
   "id": "75856339",
   "metadata": {},
   "outputs": [
    {
     "data": {
      "text/plain": [
       "([0, 1, 2, 3, 4, 5, 6, 7, 8],\n",
       " [Text(0, 0, 'Fútbol'),\n",
       "  Text(1, 0, 'Baloncesto'),\n",
       "  Text(2, 0, 'Tenis'),\n",
       "  Text(3, 0, 'Esgrima'),\n",
       "  Text(4, 0, 'Rugby'),\n",
       "  Text(5, 0, 'Ajedrez'),\n",
       "  Text(6, 0, 'Cricket'),\n",
       "  Text(7, 0, 'Baseball'),\n",
       "  Text(8, 0, 'Futbol Americano')])"
      ]
     },
     "execution_count": 8,
     "metadata": {},
     "output_type": "execute_result"
    },
    {
     "data": {
      "image/png": "[encoded data removed]",
      "text/plain": [
       "<Figure size 640x480 with 1 Axes>"
      ]
     },
     "metadata": {},
     "output_type": "display_data"
    }
   ],
   "source": [
    "import matplotlib.pyplot as plt\n",
    "deporte_paises = {'Fútbol': ['España', 'Francia', 'Inglaterra'],\n",
    " 'Baloncesto': ['España', 'EEUU'],\n",
    " 'Tenis': ['España'], 'Esgrima': ['España'],\n",
    " 'Rugby': ['Francia'], 'Ajedrez': ['Francia'], \n",
    " 'Cricket': ['Inglaterra'], 'Baseball': ['Inglaterra', 'EEUU'], \n",
    " 'Futbol Americano': ['EEUU']}\n",
    "\n",
    "eje_x = []\n",
    "eje_y = []\n",
    "\n",
    "for deporte in deporte_paises:\n",
    "    eje_x.append(deporte)\n",
    "    eje_y.append(len(deporte_paises[deporte]))\n",
    "plt.bar(eje_x, eje_y)\n",
    "plt.xticks(rotation = 90)"
   ]
  }
 ],
 "metadata": {
  "kernelspec": {
   "display_name": "base",
   "language": "python",
   "name": "python3"
  },
  "language_info": {
   "codemirror_mode": {
    "name": "ipython",
    "version": 3
   },
   "file_extension": ".py",
   "mimetype": "text/x-python",
   "name": "python",
   "nbconvert_exporter": "python",
   "pygments_lexer": "ipython3",
   "version": "3.13.5"
  }
 },
 "nbformat": 4,
 "nbformat_minor": 5
}
